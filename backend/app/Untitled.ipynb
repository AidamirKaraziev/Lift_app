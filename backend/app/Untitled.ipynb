{
 "cells": [
  {
   "cell_type": "code",
   "execution_count": 34,
   "id": "5994eb35-f806-4b4e-9b29-fa80a7587169",
   "metadata": {},
   "outputs": [],
   "source": [
    "from app import models"
   ]
  },
  {
   "cell_type": "code",
   "execution_count": 35,
   "id": "09ee3c14-f67f-41f1-ad88-b40008f9ae7a",
   "metadata": {},
   "outputs": [],
   "source": [
    "from app.api.deps import get_db\n",
    "db = next(get_db())"
   ]
  },
  {
   "cell_type": "code",
   "execution_count": 36,
   "id": "e473cc45-263c-4830-829f-6135ed2c9df2",
   "metadata": {},
   "outputs": [],
   "source": [
    "c2 = db.query(models.Location).get(5)\n",
    "db.delete(c2)\n"
   ]
  },
  {
   "cell_type": "code",
   "execution_count": 37,
   "id": "92b9df47-78b5-4a91-b680-7b5416a47630",
   "metadata": {},
   "outputs": [],
   "source": [
    "db.commit()"
   ]
  },
  {
   "cell_type": "code",
   "execution_count": null,
   "id": "c401b4f5-1a30-4cae-a90a-7601b6fdff55",
   "metadata": {},
   "outputs": [],
   "source": []
  }
 ],
 "metadata": {
  "kernelspec": {
   "display_name": "Python 3 (ipykernel)",
   "language": "python",
   "name": "python3"
  },
  "language_info": {
   "codemirror_mode": {
    "name": "ipython",
    "version": 3
   },
   "file_extension": ".py",
   "mimetype": "text/x-python",
   "name": "python",
   "nbconvert_exporter": "python",
   "pygments_lexer": "ipython3",
   "version": "3.7.12"
  }
 },
 "nbformat": 4,
 "nbformat_minor": 5
}
